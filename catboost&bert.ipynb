{
 "cells": [
  {
   "cell_type": "code",
   "execution_count": 1,
   "id": "8dc9ac00",
   "metadata": {},
   "outputs": [],
   "source": [
    "%load_ext autoreload\n",
    "%autoreload 2\n",
    "\n",
    "import transformers\n",
    "from tensorflow.keras import models, layers, preprocessing as kprocessing\n",
    "from tensorflow.keras import backend as K\n",
    "import tensorflow_hub as hub\n",
    "import tensorflow_text\n",
    "from sklearn.model_selection import train_test_split\n",
    "import tensorflow as tf\n",
    "from tensorflow.keras.optimizers import Adam\n",
    "import pandas as pd\n",
    "import numpy as np\n",
    "from catboost import CatBoostClassifier, Pool\n",
    "import swifter\n",
    "from sklearn import metrics\n",
    "from matplotlib import pyplot as plt\n",
    "import seaborn as sns\n",
    "import re\n",
    "import warnings\n",
    "import os\n",
    "warnings.filterwarnings('ignore')"
   ]
  },
  {
   "cell_type": "code",
   "execution_count": 2,
   "id": "96807b03",
   "metadata": {},
   "outputs": [
    {
     "data": {
      "text/plain": [
       "True"
      ]
     },
     "execution_count": 2,
     "metadata": {},
     "output_type": "execute_result"
    }
   ],
   "source": [
    "tf.test.is_gpu_available()"
   ]
  },
  {
   "cell_type": "markdown",
   "id": "9e559ace",
   "metadata": {},
   "source": [
    "### 0. Load cvs data and assign label"
   ]
  },
  {
   "cell_type": "code",
   "execution_count": 3,
   "id": "e2b279c6",
   "metadata": {},
   "outputs": [],
   "source": [
    "df_train = pd.read_csv('Corona_NLP_train.csv', header=0)\n",
    "df_test = pd.read_csv('Corona_NLP_test.csv', header=0)"
   ]
  },
  {
   "cell_type": "code",
   "execution_count": 4,
   "id": "d8fa2287",
   "metadata": {},
   "outputs": [
    {
     "data": {
      "text/plain": [
       "Index(['UserName', 'ScreenName', 'Location', 'TweetAt', 'OriginalTweet',\n",
       "       'Sentiment'],\n",
       "      dtype='object')"
      ]
     },
     "execution_count": 4,
     "metadata": {},
     "output_type": "execute_result"
    }
   ],
   "source": [
    "df_train.columns"
   ]
  },
  {
   "cell_type": "code",
   "execution_count": 5,
   "id": "0d8f2039",
   "metadata": {},
   "outputs": [
    {
     "data": {
      "text/plain": [
       "UserName            0\n",
       "ScreenName          0\n",
       "Location         2563\n",
       "TweetAt             0\n",
       "OriginalTweet       0\n",
       "Sentiment           0\n",
       "dtype: int64"
      ]
     },
     "execution_count": 5,
     "metadata": {},
     "output_type": "execute_result"
    }
   ],
   "source": [
    "df_train.dropna(subset=['Sentiment'],inplace=True)\n",
    "df_train.isnull().sum()"
   ]
  },
  {
   "cell_type": "code",
   "execution_count": 6,
   "id": "76c74961",
   "metadata": {},
   "outputs": [],
   "source": [
    "def assign_label(x):\n",
    "    if 'Negative' in x:\n",
    "        return 'Negative'\n",
    "    elif 'Positive' in x:\n",
    "        return 'Positive'\n",
    "    else:\n",
    "        return 'Neutral'\n",
    "\n",
    "df_train['Label'] = df_train['Sentiment'].apply(lambda x: assign_label(x))\n",
    "df_test['Label'] = df_test['Sentiment'].apply(lambda x: assign_label(x))"
   ]
  },
  {
   "cell_type": "markdown",
   "id": "93bc2061",
   "metadata": {},
   "source": [
    "### 1. Clean text - remove punctuation"
   ]
  },
  {
   "cell_type": "code",
   "execution_count": 7,
   "id": "aa1054ff",
   "metadata": {},
   "outputs": [
    {
     "data": {
      "application/vnd.jupyter.widget-view+json": {
       "model_id": "ac334867cff740a39fe34772979ad1fc",
       "version_major": 2,
       "version_minor": 0
      },
      "text/plain": [
       "Pandas Apply:   0%|          | 0/12129 [00:00<?, ?it/s]"
      ]
     },
     "metadata": {},
     "output_type": "display_data"
    },
    {
     "data": {
      "application/vnd.jupyter.widget-view+json": {
       "model_id": "119a90c14a014e42a1a7b42612c0a4a0",
       "version_major": 2,
       "version_minor": 0
      },
      "text/plain": [
       "Pandas Apply:   0%|          | 0/3798 [00:00<?, ?it/s]"
      ]
     },
     "metadata": {},
     "output_type": "display_data"
    }
   ],
   "source": [
    "def clean_text(x):\n",
    "    x = re.sub(r'[^\\w\\s]|\\n+', ' ', x).lower().strip()\n",
    "    x = re.sub('_', ' ',x)\n",
    "    x = re.sub('\\s+', ' ',x)\n",
    "    return x\n",
    "\n",
    "df_train['clean_text'] = df_train['OriginalTweet'].swifter.apply(lambda x: clean_text(x))\n",
    "df_test['clean_text'] = df_test['OriginalTweet'].swifter.apply(lambda x: clean_text(x))"
   ]
  },
  {
   "cell_type": "markdown",
   "id": "f9c5ad02",
   "metadata": {},
   "source": [
    "### 2. Sentiment classification - BERT"
   ]
  },
  {
   "cell_type": "markdown",
   "id": "6a78e9e9",
   "metadata": {},
   "source": [
    "#### 2.1 Prepare data with Token id, mask and segment"
   ]
  },
  {
   "cell_type": "code",
   "execution_count": 8,
   "id": "8ce1abff",
   "metadata": {},
   "outputs": [],
   "source": [
    "tokenizer = transformers.BertTokenizer.from_pretrained('bert-base-uncased', do_lower_case=True)\n",
    "#tokenizer = transformers.AutoTokenizer.from_pretrained('distilbert-base-uncased', do_lower_case=True)"
   ]
  },
  {
   "cell_type": "code",
   "execution_count": 9,
   "id": "9faa6150",
   "metadata": {},
   "outputs": [],
   "source": [
    "corpus = df_train[\"clean_text\"].tolist()\n",
    "maxlen = 140\n",
    "## add special tokens\n",
    "maxqnans = np.int((maxlen-10)) # number of strings are retained\n",
    "corpus_tokenized = [\"[CLS] \"+ \" \".join(tokenizer.tokenize(re.sub(r'[^\\w\\s]+|\\n', '', str(txt).lower().strip()))[:maxqnans])+\n",
    "                   \" [SEP]\" for txt in corpus]\n",
    "\n",
    "## generate masks: 1 for text and 0 for additional non-text (fixed length)\n",
    "masks = [[1]*len(txt.split(\" \")) + [0]*(maxlen - len(txt.split(\" \"))) for txt in corpus_tokenized]\n",
    "## padding\n",
    "txt2seq = [txt + \" [PAD]\"*(maxlen-len(txt.split(\" \"))) if len(txt.split(\" \")) != maxlen else txt for txt in corpus_tokenized]\n",
    "## generate idx\n",
    "idx = [tokenizer.encode(seq.split(\" \"))[1:-1] for seq in txt2seq] # tokenizer.encode automatically add [CLS] (101) and [SEP] (102) on the basis of text"
   ]
  },
  {
   "cell_type": "code",
   "execution_count": 10,
   "id": "bde60a87",
   "metadata": {},
   "outputs": [
    {
     "name": "stdout",
     "output_type": "stream",
     "text": [
      "(12129, 8) 12129 12129 130\n",
      "['[CLS] men ##yr ##bie phil ga ##han chris ##it ##v https t co if ##z ##9 ##fan ##2 ##pa and https t co xx ##6 ##gh ##gf ##z ##cc and https t co i ##2 ##nl ##zd ##x ##no ##8 [SEP]', '[CLS] advice talk to your neighbours family to exchange phone numbers create contact list with phone numbers of neighbours schools employer chemist gp set up online shopping accounts if po ##ss adequate supplies of regular med ##s but not over order [SEP]'] \n",
      " [[1, 1, 1, 1, 1, 1, 1, 1, 1, 1, 1, 1, 1, 1, 1, 1, 1, 1, 1, 1, 1, 1, 1, 1, 1, 1, 1, 1, 1, 1, 1, 1, 1, 1, 1, 1, 1, 1, 1, 1, 1, 0, 0, 0, 0, 0, 0, 0, 0, 0, 0, 0, 0, 0, 0, 0, 0, 0, 0, 0, 0, 0, 0, 0, 0, 0, 0, 0, 0, 0, 0, 0, 0, 0, 0, 0, 0, 0, 0, 0, 0, 0, 0, 0, 0, 0, 0, 0, 0, 0, 0, 0, 0, 0, 0, 0, 0, 0, 0, 0, 0, 0, 0, 0, 0, 0, 0, 0, 0, 0, 0, 0, 0, 0, 0, 0, 0, 0, 0, 0, 0, 0, 0, 0, 0, 0, 0, 0, 0, 0, 0, 0, 0, 0, 0, 0, 0, 0, 0, 0], [1, 1, 1, 1, 1, 1, 1, 1, 1, 1, 1, 1, 1, 1, 1, 1, 1, 1, 1, 1, 1, 1, 1, 1, 1, 1, 1, 1, 1, 1, 1, 1, 1, 1, 1, 1, 1, 1, 1, 1, 1, 1, 0, 0, 0, 0, 0, 0, 0, 0, 0, 0, 0, 0, 0, 0, 0, 0, 0, 0, 0, 0, 0, 0, 0, 0, 0, 0, 0, 0, 0, 0, 0, 0, 0, 0, 0, 0, 0, 0, 0, 0, 0, 0, 0, 0, 0, 0, 0, 0, 0, 0, 0, 0, 0, 0, 0, 0, 0, 0, 0, 0, 0, 0, 0, 0, 0, 0, 0, 0, 0, 0, 0, 0, 0, 0, 0, 0, 0, 0, 0, 0, 0, 0, 0, 0, 0, 0, 0, 0, 0, 0, 0, 0, 0, 0, 0, 0, 0, 0]] \n",
      " ['[CLS] men ##yr ##bie phil ga ##han chris ##it ##v https t co if ##z ##9 ##fan ##2 ##pa and https t co xx ##6 ##gh ##gf ##z ##cc and https t co i ##2 ##nl ##zd ##x ##no ##8 [SEP] [PAD] [PAD] [PAD] [PAD] [PAD] [PAD] [PAD] [PAD] [PAD] [PAD] [PAD] [PAD] [PAD] [PAD] [PAD] [PAD] [PAD] [PAD] [PAD] [PAD] [PAD] [PAD] [PAD] [PAD] [PAD] [PAD] [PAD] [PAD] [PAD] [PAD] [PAD] [PAD] [PAD] [PAD] [PAD] [PAD] [PAD] [PAD] [PAD] [PAD] [PAD] [PAD] [PAD] [PAD] [PAD] [PAD] [PAD] [PAD] [PAD] [PAD] [PAD] [PAD] [PAD] [PAD] [PAD] [PAD] [PAD] [PAD] [PAD] [PAD] [PAD] [PAD] [PAD] [PAD] [PAD] [PAD] [PAD] [PAD] [PAD] [PAD] [PAD] [PAD] [PAD] [PAD] [PAD] [PAD] [PAD] [PAD] [PAD] [PAD] [PAD] [PAD] [PAD] [PAD] [PAD] [PAD] [PAD] [PAD] [PAD] [PAD] [PAD] [PAD] [PAD] [PAD] [PAD] [PAD] [PAD] [PAD] [PAD]', '[CLS] advice talk to your neighbours family to exchange phone numbers create contact list with phone numbers of neighbours schools employer chemist gp set up online shopping accounts if po ##ss adequate supplies of regular med ##s but not over order [SEP] [PAD] [PAD] [PAD] [PAD] [PAD] [PAD] [PAD] [PAD] [PAD] [PAD] [PAD] [PAD] [PAD] [PAD] [PAD] [PAD] [PAD] [PAD] [PAD] [PAD] [PAD] [PAD] [PAD] [PAD] [PAD] [PAD] [PAD] [PAD] [PAD] [PAD] [PAD] [PAD] [PAD] [PAD] [PAD] [PAD] [PAD] [PAD] [PAD] [PAD] [PAD] [PAD] [PAD] [PAD] [PAD] [PAD] [PAD] [PAD] [PAD] [PAD] [PAD] [PAD] [PAD] [PAD] [PAD] [PAD] [PAD] [PAD] [PAD] [PAD] [PAD] [PAD] [PAD] [PAD] [PAD] [PAD] [PAD] [PAD] [PAD] [PAD] [PAD] [PAD] [PAD] [PAD] [PAD] [PAD] [PAD] [PAD] [PAD] [PAD] [PAD] [PAD] [PAD] [PAD] [PAD] [PAD] [PAD] [PAD] [PAD] [PAD] [PAD] [PAD] [PAD] [PAD] [PAD] [PAD] [PAD] [PAD]'] \n",
      " [[101, 2273, 12541, 11283, 6316, 11721, 4819, 3782, 4183, 2615, 16770, 1056, 2522, 2065, 2480, 2683, 15143, 2475, 4502, 1998, 16770, 1056, 2522, 22038, 2575, 5603, 25708, 2480, 9468, 1998, 16770, 1056, 2522, 1045, 2475, 20554, 26494, 2595, 3630, 2620, 102, 0, 0, 0, 0, 0, 0, 0, 0, 0, 0, 0, 0, 0, 0, 0, 0, 0, 0, 0, 0, 0, 0, 0, 0, 0, 0, 0, 0, 0, 0, 0, 0, 0, 0, 0, 0, 0, 0, 0, 0, 0, 0, 0, 0, 0, 0, 0, 0, 0, 0, 0, 0, 0, 0, 0, 0, 0, 0, 0, 0, 0, 0, 0, 0, 0, 0, 0, 0, 0, 0, 0, 0, 0, 0, 0, 0, 0, 0, 0, 0, 0, 0, 0, 0, 0, 0, 0, 0, 0, 0, 0, 0, 0, 0, 0, 0, 0, 0, 0], [101, 6040, 2831, 2000, 2115, 14754, 2155, 2000, 3863, 3042, 3616, 3443, 3967, 2862, 2007, 3042, 3616, 1997, 14754, 2816, 11194, 15535, 14246, 2275, 2039, 3784, 6023, 6115, 2065, 13433, 4757, 11706, 6067, 1997, 3180, 19960, 2015, 2021, 2025, 2058, 2344, 102, 0, 0, 0, 0, 0, 0, 0, 0, 0, 0, 0, 0, 0, 0, 0, 0, 0, 0, 0, 0, 0, 0, 0, 0, 0, 0, 0, 0, 0, 0, 0, 0, 0, 0, 0, 0, 0, 0, 0, 0, 0, 0, 0, 0, 0, 0, 0, 0, 0, 0, 0, 0, 0, 0, 0, 0, 0, 0, 0, 0, 0, 0, 0, 0, 0, 0, 0, 0, 0, 0, 0, 0, 0, 0, 0, 0, 0, 0, 0, 0, 0, 0, 0, 0, 0, 0, 0, 0, 0, 0, 0, 0, 0, 0, 0, 0, 0, 0]]\n"
     ]
    }
   ],
   "source": [
    "print(df_train.shape, len(corpus_tokenized), len(masks), maxqnans)\n",
    "print(corpus_tokenized[0:2], '\\n', masks[0:2], '\\n', txt2seq[0:2], '\\n', idx[0:2])"
   ]
  },
  {
   "cell_type": "code",
   "execution_count": 11,
   "id": "c0b4f4a0",
   "metadata": {},
   "outputs": [
    {
     "name": "stdout",
     "output_type": "stream",
     "text": [
      "[[101, 2273, 12541, 11283, 6316, 11721, 4819, 3782, 4183, 2615, 16770, 1056, 2522, 2065, 2480, 2683, 15143, 2475, 4502, 1998, 16770, 1056, 2522, 22038, 2575, 5603, 25708, 2480, 9468, 1998, 16770, 1056, 2522, 1045, 2475, 20554, 26494, 2595, 3630, 2620, 102, 0, 0, 0, 0, 0, 0, 0, 0, 0, 0, 0, 0, 0, 0, 0, 0, 0, 0, 0, 0, 0, 0, 0, 0, 0, 0, 0, 0, 0, 0, 0, 0, 0, 0, 0, 0, 0, 0, 0, 0, 0, 0, 0, 0, 0, 0, 0, 0, 0, 0, 0, 0, 0, 0, 0, 0, 0, 0, 0, 0, 0, 0, 0, 0, 0, 0, 0, 0, 0, 0, 0, 0, 0, 0, 0, 0, 0, 0, 0, 0, 0, 0, 0, 0, 0, 0, 0, 0, 0, 0, 0, 0, 0, 0, 0, 0, 0, 0, 0], [101, 6040, 2831, 2000, 2115, 14754, 2155, 2000, 3863, 3042, 3616, 3443, 3967, 2862, 2007, 3042, 3616, 1997, 14754, 2816, 11194, 15535, 14246, 2275, 2039, 3784, 6023, 6115, 2065, 13433, 4757, 11706, 6067, 1997, 3180, 19960, 2015, 2021, 2025, 2058, 2344, 102, 0, 0, 0, 0, 0, 0, 0, 0, 0, 0, 0, 0, 0, 0, 0, 0, 0, 0, 0, 0, 0, 0, 0, 0, 0, 0, 0, 0, 0, 0, 0, 0, 0, 0, 0, 0, 0, 0, 0, 0, 0, 0, 0, 0, 0, 0, 0, 0, 0, 0, 0, 0, 0, 0, 0, 0, 0, 0, 0, 0, 0, 0, 0, 0, 0, 0, 0, 0, 0, 0, 0, 0, 0, 0, 0, 0, 0, 0, 0, 0, 0, 0, 0, 0, 0, 0, 0, 0, 0, 0, 0, 0, 0, 0, 0, 0, 0, 0]] \n",
      " \n",
      " [[1, 1, 1, 1, 1, 1, 1, 1, 1, 1, 1, 1, 1, 1, 1, 1, 1, 1, 1, 1, 1, 1, 1, 1, 1, 1, 1, 1, 1, 1, 1, 1, 1, 1, 1, 1, 1, 1, 1, 1, 1, 0, 0, 0, 0, 0, 0, 0, 0, 0, 0, 0, 0, 0, 0, 0, 0, 0, 0, 0, 0, 0, 0, 0, 0, 0, 0, 0, 0, 0, 0, 0, 0, 0, 0, 0, 0, 0, 0, 0, 0, 0, 0, 0, 0, 0, 0, 0, 0, 0, 0, 0, 0, 0, 0, 0, 0, 0, 0, 0, 0, 0, 0, 0, 0, 0, 0, 0, 0, 0, 0, 0, 0, 0, 0, 0, 0, 0, 0, 0, 0, 0, 0, 0, 0, 0, 0, 0, 0, 0, 0, 0, 0, 0, 0, 0, 0, 0, 0, 0], [1, 1, 1, 1, 1, 1, 1, 1, 1, 1, 1, 1, 1, 1, 1, 1, 1, 1, 1, 1, 1, 1, 1, 1, 1, 1, 1, 1, 1, 1, 1, 1, 1, 1, 1, 1, 1, 1, 1, 1, 1, 1, 0, 0, 0, 0, 0, 0, 0, 0, 0, 0, 0, 0, 0, 0, 0, 0, 0, 0, 0, 0, 0, 0, 0, 0, 0, 0, 0, 0, 0, 0, 0, 0, 0, 0, 0, 0, 0, 0, 0, 0, 0, 0, 0, 0, 0, 0, 0, 0, 0, 0, 0, 0, 0, 0, 0, 0, 0, 0, 0, 0, 0, 0, 0, 0, 0, 0, 0, 0, 0, 0, 0, 0, 0, 0, 0, 0, 0, 0, 0, 0, 0, 0, 0, 0, 0, 0, 0, 0, 0, 0, 0, 0, 0, 0, 0, 0, 0, 0]]\n"
     ]
    }
   ],
   "source": [
    "print(idx[0:2], '\\n','\\n', masks[0:2])"
   ]
  },
  {
   "cell_type": "code",
   "execution_count": 16,
   "id": "df5eacc6",
   "metadata": {},
   "outputs": [],
   "source": [
    "## generate segments\n",
    "segments = [] \n",
    "for seq in txt2seq:\n",
    "    temp, i = [], 0\n",
    "    for token in seq.split(\" \"):\n",
    "        temp.append(i)\n",
    "        if token == \"[SEP]\":\n",
    "             i += 1\n",
    "    segments.append(temp)\n",
    "## feature matrix\n",
    "X_train = [np.asarray(idx, dtype='int32'), \n",
    "           np.asarray(masks, dtype='int32')]\n",
    "\n",
    "## label\n",
    "y_train = df_train['Label'].values"
   ]
  },
  {
   "cell_type": "code",
   "execution_count": 13,
   "id": "dded1c0e",
   "metadata": {},
   "outputs": [
    {
     "name": "stdout",
     "output_type": "stream",
     "text": [
      "[  101  2273 12541 11283  6316 11721  4819  3782  4183  2615 16770  1056\n",
      "  2522  2065  2480  2683 15143  2475  4502  1998 16770  1056  2522 22038\n",
      "  2575  5603 25708  2480  9468  1998 16770  1056  2522  1045  2475 20554\n",
      " 26494  2595  3630  2620   102     0     0     0     0     0     0     0\n",
      "     0     0     0     0     0     0     0     0     0     0     0     0\n",
      "     0     0     0     0     0     0     0     0     0     0     0     0\n",
      "     0     0     0     0     0     0     0     0     0     0     0     0\n",
      "     0     0     0     0     0     0     0     0     0     0     0     0\n",
      "     0     0     0     0     0     0     0     0     0     0     0     0\n",
      "     0     0     0     0     0     0     0     0     0     0     0     0\n",
      "     0     0     0     0     0     0     0     0     0     0     0     0\n",
      "     0     0     0     0     0     0     0     0] [1 1 1 1 1 1 1 1 1 1 1 1 1 1 1 1 1 1 1 1 1 1 1 1 1 1 1 1 1 1 1 1 1 1 1 1 1\n",
      " 1 1 1 1 0 0 0 0 0 0 0 0 0 0 0 0 0 0 0 0 0 0 0 0 0 0 0 0 0 0 0 0 0 0 0 0 0\n",
      " 0 0 0 0 0 0 0 0 0 0 0 0 0 0 0 0 0 0 0 0 0 0 0 0 0 0 0 0 0 0 0 0 0 0 0 0 0\n",
      " 0 0 0 0 0 0 0 0 0 0 0 0 0 0 0 0 0 0 0 0 0 0 0 0 0 0 0 0 0]\n"
     ]
    }
   ],
   "source": [
    "print(X_train[0][0], X_train[1][0])"
   ]
  },
  {
   "cell_type": "markdown",
   "id": "fe48c6ba",
   "metadata": {},
   "source": [
    "#### 2.2 Response label encoder"
   ]
  },
  {
   "cell_type": "code",
   "execution_count": 17,
   "id": "cabcc906",
   "metadata": {},
   "outputs": [],
   "source": [
    "## encode y\n",
    "dic_y_mapping = {n:label for n,label in enumerate(np.unique(y_train))}\n",
    "inverse_dic = {v:k for k,v in dic_y_mapping.items()}\n",
    "y_train = np.array([inverse_dic[y] for y in y_train])"
   ]
  },
  {
   "cell_type": "code",
   "execution_count": 18,
   "id": "9eae908c",
   "metadata": {},
   "outputs": [
    {
     "name": "stdout",
     "output_type": "stream",
     "text": [
      "{0: 'Negative', 1: 'Neutral', 2: 'Positive'}\n",
      "{'Negative': 0, 'Neutral': 1, 'Positive': 2}\n"
     ]
    }
   ],
   "source": [
    "print(dic_y_mapping)\n",
    "print(inverse_dic)"
   ]
  },
  {
   "cell_type": "markdown",
   "id": "ed303986",
   "metadata": {},
   "source": [
    "#### 2.3 Model preparation "
   ]
  },
  {
   "cell_type": "code",
   "execution_count": 22,
   "id": "800d2afb",
   "metadata": {},
   "outputs": [
    {
     "name": "stderr",
     "output_type": "stream",
     "text": [
      "Some layers from the model checkpoint at distilbert-base-uncased were not used when initializing TFDistilBertModel: ['activation_13', 'vocab_transform', 'vocab_layer_norm', 'vocab_projector']\n",
      "- This IS expected if you are initializing TFDistilBertModel from the checkpoint of a model trained on another task or with another architecture (e.g. initializing a BertForSequenceClassification model from a BertForPreTraining model).\n",
      "- This IS NOT expected if you are initializing TFDistilBertModel from the checkpoint of a model that you expect to be exactly identical (initializing a BertForSequenceClassification model from a BertForSequenceClassification model).\n",
      "All the layers of TFDistilBertModel were initialized from the model checkpoint at distilbert-base-uncased.\n",
      "If your task is similar to the task the model of the checkpoint was trained on, you can already use TFDistilBertModel for predictions without further training.\n"
     ]
    },
    {
     "name": "stdout",
     "output_type": "stream",
     "text": [
      "Model: \"model_2\"\n",
      "__________________________________________________________________________________________________\n",
      "Layer (type)                    Output Shape         Param #     Connected to                     \n",
      "==================================================================================================\n",
      "input_idx (InputLayer)          [(None, 140)]        0                                            \n",
      "__________________________________________________________________________________________________\n",
      "input_masks (InputLayer)        [(None, 140)]        0                                            \n",
      "__________________________________________________________________________________________________\n",
      "tf_distil_bert_model_2 (TFDisti TFBaseModelOutput(la 66362880    input_idx[0][0]                  \n",
      "                                                                 input_masks[0][0]                \n",
      "__________________________________________________________________________________________________\n",
      "global_average_pooling1d_2 (Glo (None, 768)          0           tf_distil_bert_model_2[0][0]     \n",
      "__________________________________________________________________________________________________\n",
      "dense_4 (Dense)                 (None, 64)           49216       global_average_pooling1d_2[0][0] \n",
      "__________________________________________________________________________________________________\n",
      "dense_5 (Dense)                 (None, 3)            195         dense_4[0][0]                    \n",
      "==================================================================================================\n",
      "Total params: 66,412,291\n",
      "Trainable params: 49,411\n",
      "Non-trainable params: 66,362,880\n",
      "__________________________________________________________________________________________________\n"
     ]
    }
   ],
   "source": [
    "## inputs\n",
    "idx = layers.Input((140), dtype=\"int32\", name=\"input_idx\")\n",
    "masks = layers.Input((140), dtype=\"int32\", name=\"input_masks\")\n",
    "## pre-trained bert with config\n",
    "config = transformers.DistilBertConfig(dropout=0.2, attention_dropout=0.2)\n",
    "config.output_hidden_states = False\n",
    "# Load pretrained model\n",
    "nlp = transformers.TFDistilBertModel.from_pretrained('distilbert-base-uncased', config=config)\n",
    "bert_out = nlp(idx, attention_mask=masks)[0] # Output from bert layer\n",
    "## fine-tuning (dense layer)\n",
    "x = layers.GlobalAveragePooling1D()(bert_out)\n",
    "x = layers.Dense(64, activation=\"relu\")(x)\n",
    "y_out = layers.Dense(len(np.unique(y_train)), activation='softmax')(x)\n",
    "## define trainable layers\n",
    "model = models.Model([idx, masks], y_out)\n",
    "for layer in model.layers[:3]:\n",
    "    layer.trainable = False\n",
    "## compile\n",
    "model.compile(loss='sparse_categorical_crossentropy', optimizer='adam', metrics=['accuracy'])\n",
    "model.summary()"
   ]
  },
  {
   "cell_type": "markdown",
   "id": "de999c29",
   "metadata": {},
   "source": [
    "#### 2.4 Model training"
   ]
  },
  {
   "cell_type": "code",
   "execution_count": 25,
   "id": "2da42fb1",
   "metadata": {},
   "outputs": [
    {
     "name": "stdout",
     "output_type": "stream",
     "text": [
      "Epoch 1/30\n",
      "133/133 [==============================] - 138s 1s/step - loss: 0.6928 - accuracy: 0.6949 - val_loss: 0.7857 - val_accuracy: 0.6587\n",
      "Epoch 2/30\n",
      "133/133 [==============================] - 138s 1s/step - loss: 0.6788 - accuracy: 0.7071 - val_loss: 0.7801 - val_accuracy: 0.6587\n",
      "Epoch 3/30\n",
      "133/133 [==============================] - 138s 1s/step - loss: 0.6800 - accuracy: 0.7075 - val_loss: 0.7755 - val_accuracy: 0.6625\n",
      "Epoch 4/30\n",
      "133/133 [==============================] - 138s 1s/step - loss: 0.6721 - accuracy: 0.7115 - val_loss: 0.7975 - val_accuracy: 0.6538\n",
      "Epoch 5/30\n",
      "133/133 [==============================] - 138s 1s/step - loss: 0.6652 - accuracy: 0.7128 - val_loss: 0.7880 - val_accuracy: 0.6565\n",
      "Epoch 6/30\n",
      "133/133 [==============================] - 138s 1s/step - loss: 0.6589 - accuracy: 0.7211 - val_loss: 0.7904 - val_accuracy: 0.6518\n",
      "Epoch 7/30\n",
      "133/133 [==============================] - 138s 1s/step - loss: 0.6590 - accuracy: 0.7166 - val_loss: 0.7933 - val_accuracy: 0.6535\n",
      "Epoch 8/30\n",
      "133/133 [==============================] - 138s 1s/step - loss: 0.6578 - accuracy: 0.7173 - val_loss: 0.7870 - val_accuracy: 0.6592\n",
      "Epoch 9/30\n",
      "133/133 [==============================] - 138s 1s/step - loss: 0.6475 - accuracy: 0.7219 - val_loss: 0.7942 - val_accuracy: 0.6535\n",
      "Epoch 10/30\n",
      "133/133 [==============================] - 138s 1s/step - loss: 0.6503 - accuracy: 0.7211 - val_loss: 0.8106 - val_accuracy: 0.6524\n",
      "Epoch 11/30\n",
      "133/133 [==============================] - 138s 1s/step - loss: 0.6448 - accuracy: 0.7272 - val_loss: 0.8090 - val_accuracy: 0.6570\n",
      "Epoch 12/30\n",
      "133/133 [==============================] - 138s 1s/step - loss: 0.6332 - accuracy: 0.7316 - val_loss: 0.8034 - val_accuracy: 0.6546\n",
      "Epoch 13/30\n",
      "133/133 [==============================] - 138s 1s/step - loss: 0.6344 - accuracy: 0.7313 - val_loss: 0.8031 - val_accuracy: 0.6568\n",
      "Epoch 14/30\n",
      "133/133 [==============================] - 138s 1s/step - loss: 0.6236 - accuracy: 0.7331 - val_loss: 0.8158 - val_accuracy: 0.6540\n",
      "Epoch 15/30\n",
      "133/133 [==============================] - 138s 1s/step - loss: 0.6267 - accuracy: 0.7353 - val_loss: 0.8049 - val_accuracy: 0.6546\n",
      "Epoch 16/30\n",
      "133/133 [==============================] - 138s 1s/step - loss: 0.6171 - accuracy: 0.7416 - val_loss: 0.8132 - val_accuracy: 0.6518\n",
      "Epoch 17/30\n",
      "133/133 [==============================] - 138s 1s/step - loss: 0.6123 - accuracy: 0.7403 - val_loss: 0.8290 - val_accuracy: 0.6538\n",
      "Epoch 18/30\n",
      "133/133 [==============================] - 138s 1s/step - loss: 0.6062 - accuracy: 0.7489 - val_loss: 0.8240 - val_accuracy: 0.6565\n",
      "Epoch 19/30\n",
      "133/133 [==============================] - 138s 1s/step - loss: 0.6085 - accuracy: 0.7450 - val_loss: 0.8155 - val_accuracy: 0.6576\n",
      "Epoch 20/30\n",
      "133/133 [==============================] - 138s 1s/step - loss: 0.6004 - accuracy: 0.7466 - val_loss: 0.8095 - val_accuracy: 0.6557\n",
      "Epoch 21/30\n",
      "133/133 [==============================] - 138s 1s/step - loss: 0.5938 - accuracy: 0.7522 - val_loss: 0.8203 - val_accuracy: 0.6595\n",
      "Epoch 22/30\n",
      "133/133 [==============================] - 138s 1s/step - loss: 0.6004 - accuracy: 0.7441 - val_loss: 0.8279 - val_accuracy: 0.6518\n",
      "Epoch 23/30\n",
      "133/133 [==============================] - 138s 1s/step - loss: 0.5975 - accuracy: 0.7496 - val_loss: 0.8535 - val_accuracy: 0.6411\n",
      "Epoch 24/30\n",
      "133/133 [==============================] - 138s 1s/step - loss: 0.5878 - accuracy: 0.7542 - val_loss: 0.8370 - val_accuracy: 0.6609\n",
      "Epoch 25/30\n",
      "133/133 [==============================] - 138s 1s/step - loss: 0.5841 - accuracy: 0.7589 - val_loss: 0.8391 - val_accuracy: 0.6524\n",
      "Epoch 26/30\n",
      "133/133 [==============================] - 138s 1s/step - loss: 0.5837 - accuracy: 0.7537 - val_loss: 0.8489 - val_accuracy: 0.6466\n",
      "Epoch 27/30\n",
      "133/133 [==============================] - 138s 1s/step - loss: 0.5791 - accuracy: 0.7572 - val_loss: 0.8450 - val_accuracy: 0.6469\n",
      "Epoch 28/30\n",
      "133/133 [==============================] - 138s 1s/step - loss: 0.5687 - accuracy: 0.7633 - val_loss: 0.8511 - val_accuracy: 0.6521\n",
      "Epoch 29/30\n",
      "133/133 [==============================] - 138s 1s/step - loss: 0.5800 - accuracy: 0.7587 - val_loss: 0.8411 - val_accuracy: 0.6538\n",
      "Epoch 30/30\n",
      "133/133 [==============================] - 138s 1s/step - loss: 0.5664 - accuracy: 0.7641 - val_loss: 0.8514 - val_accuracy: 0.6494\n"
     ]
    }
   ],
   "source": [
    "tf.config.run_functions_eagerly(True)\n",
    "## train\n",
    "training = model.fit(x=X_train, y=y_train, batch_size=64, epochs=30, shuffle=True, verbose=1, validation_split=0.3)"
   ]
  },
  {
   "cell_type": "markdown",
   "id": "223cbe46",
   "metadata": {},
   "source": [
    "#### 2.5 Validation trained model on training data"
   ]
  },
  {
   "cell_type": "code",
   "execution_count": 85,
   "id": "f4871bc1",
   "metadata": {},
   "outputs": [],
   "source": [
    "corpus_test = df_test[\"clean_text\"].tolist()\n",
    "maxlen = 140\n",
    "## add special tokens\n",
    "maxqnans = np.int(maxlen-10) # number of strings are retained\n",
    "corpus_tokenized_test = [\"[CLS] \"+ \" \".join(tokenizer.tokenize(re.sub(r'[^\\w\\s]+|\\n', '', str(txt).lower().strip()))[:maxqnans])+\n",
    "                         \" [SEP]\" for txt in corpus_test]\n",
    "# corpus_tokenized = [\" \".join(tokenizer.tokenize(str(txt))[:maxqnans]) for txt in corpus]\n",
    "## generate masks\n",
    "masks_test = [[1]*len(txt.split(\" \")) + [0]*(maxlen - len(txt.split(\" \"))) for txt in corpus_tokenized_test]\n",
    "## padding\n",
    "txt2seq_test = [txt + \" [PAD]\"*(maxlen-len(txt.split(\" \"))) if len(txt.split(\" \")) != maxlen else txt for txt in corpus_tokenized_test]\n",
    "\n",
    "## generate idx\n",
    "idx_test = [tokenizer.encode(seq.split(\" \"))[1:-1] for seq in txt2seq_test] # tokenizer.encode automatically add [CLS] (101) and [SEP] (102) on the basis of text\n",
    "\n",
    "## generate segments\n",
    "segments_test = [] \n",
    "for seq in txt2seq_test:\n",
    "    temp, i = [], 0\n",
    "    for token in seq.split(\" \"):\n",
    "        temp.append(i)\n",
    "        if token == \"[SEP]\":\n",
    "             i += 1\n",
    "    segments.append(temp)\n",
    "## feature matrix\n",
    "X_test = [np.asarray(idx_test, dtype='int32'), \n",
    "           np.asarray(masks_test, dtype='int32')]"
   ]
  },
  {
   "cell_type": "code",
   "execution_count": 86,
   "id": "4e5c5db4",
   "metadata": {},
   "outputs": [],
   "source": [
    "## test\n",
    "predicted_prob = model1.predict(X_test)\n",
    "predicted = [dic_y_mapping[np.argmax(pred)] for pred in predicted_prob]"
   ]
  },
  {
   "cell_type": "code",
   "execution_count": 87,
   "id": "8c4c2c7b",
   "metadata": {},
   "outputs": [
    {
     "name": "stdout",
     "output_type": "stream",
     "text": [
      "Accuracy: 0.64\n",
      "Auc: 0.8\n",
      "Detail:\n",
      "              precision    recall  f1-score   support\n",
      "\n",
      "    Negative       0.64      0.72      0.68      1633\n",
      "     Neutral       0.59      0.42      0.49       619\n",
      "    Positive       0.65      0.65      0.65      1546\n",
      "\n",
      "    accuracy                           0.64      3798\n",
      "   macro avg       0.63      0.59      0.61      3798\n",
      "weighted avg       0.64      0.64      0.64      3798\n",
      "\n"
     ]
    },
    {
     "data": {
      "image/png": "[encoded data removed]",
      "text/plain": [
       "<Figure size 432x288 with 1 Axes>"
      ]
     },
     "metadata": {
      "needs_background": "light"
     },
     "output_type": "display_data"
    },
    {
     "data": {
      "image/png": "[encoded data removed]",
      "text/plain": [
       "<Figure size 1152x432 with 2 Axes>"
      ]
     },
     "metadata": {
      "needs_background": "light"
     },
     "output_type": "display_data"
    }
   ],
   "source": [
    "y_test = df_test['Label'].values\n",
    "classes = np.unique(y_test)\n",
    "y_test_array = pd.get_dummies(y_test, drop_first=False).values\n",
    "\n",
    "## Accuracy, Precision, Recall\n",
    "accuracy = metrics.accuracy_score(y_test, predicted)\n",
    "auc = metrics.roc_auc_score(y_test, predicted_prob, \n",
    "                            multi_class=\"ovr\")\n",
    "print(\"Accuracy:\",  round(accuracy,2))\n",
    "print(\"Auc:\", round(auc,2))\n",
    "print(\"Detail:\")\n",
    "print(metrics.classification_report(y_test, predicted))\n",
    "    \n",
    "## Plot confusion matrix\n",
    "cm = metrics.confusion_matrix(y_test, predicted)\n",
    "fig, ax = plt.subplots()\n",
    "sns.heatmap(cm, annot=True, fmt='d', ax=ax, cmap=plt.cm.Blues, \n",
    "            cbar=False)\n",
    "ax.set(xlabel=\"Pred\", ylabel=\"True\", xticklabels=classes, \n",
    "       yticklabels=classes, title=\"Confusion matrix\")\n",
    "plt.yticks(rotation=0)\n",
    "\n",
    "fig, ax = plt.subplots(nrows=1, ncols=2, figsize = (16,6))\n",
    "## Plot roc\n",
    "for i in range(len(classes)):\n",
    "    fpr, tpr, thresholds = metrics.roc_curve(y_test_array[:,i],  \n",
    "                           predicted_prob[:,i])\n",
    "    ax[0].plot(fpr, tpr, lw=3, \n",
    "              label='{0} (area={1:0.2f})'.format(classes[i], \n",
    "                              metrics.auc(fpr, tpr))\n",
    "               )\n",
    "ax[0].plot([0,1], [0,1], color='navy', lw=3, linestyle='--')\n",
    "ax[0].set(xlim=[-0.05,1.0], ylim=[0.0,1.05], \n",
    "          xlabel='False Positive Rate', \n",
    "          ylabel=\"True Positive Rate (Recall)\", \n",
    "          title=\"Receiver operating characteristic\")\n",
    "ax[0].legend(loc=\"lower right\")\n",
    "ax[0].grid(True)\n",
    "    \n",
    "## Plot precision-recall curve\n",
    "for i in range(len(classes)):\n",
    "    precision, recall, thresholds = metrics.precision_recall_curve(\n",
    "                 y_test_array[:,i], predicted_prob[:,i])\n",
    "    ax[1].plot(recall, precision, lw=3, \n",
    "               label='{0} (area={1:0.2f})'.format(classes[i], \n",
    "                                  metrics.auc(recall, precision))\n",
    "              )\n",
    "ax[1].set(xlim=[0.0,1.05], ylim=[0.0,1.05], xlabel='Recall', \n",
    "          ylabel=\"Precision\", title=\"Precision-Recall curve\")\n",
    "ax[1].legend(loc=\"best\")\n",
    "ax[1].grid(True)\n",
    "plt.show()"
   ]
  },
  {
   "cell_type": "code",
   "execution_count": 26,
   "id": "e82433c4",
   "metadata": {},
   "outputs": [],
   "source": [
    "model.save_weights('trained_model/light_version/light_bert_weights')"
   ]
  },
  {
   "cell_type": "code",
   "execution_count": 70,
   "id": "62c2d92f",
   "metadata": {},
   "outputs": [
    {
     "data": {
      "text/plain": [
       "<tensorflow.python.training.tracking.util.CheckpointLoadStatus at 0x7f0c48950f90>"
      ]
     },
     "execution_count": 70,
     "metadata": {},
     "output_type": "execute_result"
    }
   ],
   "source": [
    "model1.load_weights('trained_model/light_version/light_bert_weights')"
   ]
  },
  {
   "cell_type": "markdown",
   "id": "6f325084",
   "metadata": {},
   "source": [
    "### 3. BERT - smaller version"
   ]
  },
  {
   "cell_type": "code",
   "execution_count": 27,
   "id": "473233aa",
   "metadata": {},
   "outputs": [
    {
     "data": {
      "text/plain": [
       "UserName            0\n",
       "ScreenName          0\n",
       "Location         2563\n",
       "TweetAt             0\n",
       "OriginalTweet       0\n",
       "Sentiment           0\n",
       "dtype: int64"
      ]
     },
     "execution_count": 27,
     "metadata": {},
     "output_type": "execute_result"
    }
   ],
   "source": [
    "df_train = pd.read_csv('Corona_NLP_train.csv', header=0)\n",
    "df_test = pd.read_csv('Corona_NLP_test.csv', header=0)\n",
    "df_train.dropna(subset=['Sentiment'],inplace=True)\n",
    "df_train.isnull().sum()"
   ]
  },
  {
   "cell_type": "code",
   "execution_count": 28,
   "id": "bf31def1",
   "metadata": {},
   "outputs": [],
   "source": [
    "def assign_label(x):\n",
    "    if 'Negative' in x:\n",
    "        return 'Negative'\n",
    "    elif 'Positive' in x:\n",
    "        return 'Positive'\n",
    "    else:\n",
    "        return 'Neutral'\n",
    "\n",
    "df_train['Sentiment'] = df_train['Sentiment'].apply(lambda x: assign_label(x))\n",
    "df_test['Sentiment'] = df_test['Sentiment'].apply(lambda x: assign_label(x))"
   ]
  },
  {
   "cell_type": "code",
   "execution_count": 29,
   "id": "0285c3da",
   "metadata": {},
   "outputs": [],
   "source": [
    "tfhub_handle_encoder = \"https://tfhub.dev/tensorflow/small_bert/bert_en_uncased_L-4_H-512_A-8/1\"\n",
    "tfhub_handle_preprocess = \"https://tfhub.dev/tensorflow/bert_en_uncased_preprocess/3\""
   ]
  },
  {
   "cell_type": "code",
   "execution_count": 30,
   "id": "c7c6bd69",
   "metadata": {},
   "outputs": [],
   "source": [
    "def build_classifier_model():\n",
    "    \n",
    "    text_input = tf.keras.layers.Input(\n",
    "        shape=(), dtype=tf.string, name='text')\n",
    "    \n",
    "    preprocessing_layer = hub.KerasLayer(\n",
    "        tfhub_handle_preprocess, name='preprocessing')\n",
    "    \n",
    "    encoder_inputs = preprocessing_layer(text_input)\n",
    "    encoder = hub.KerasLayer(tfhub_handle_encoder, trainable=True, name='BERT_encoder')\n",
    "    \n",
    "    outputs = encoder(encoder_inputs)\n",
    "    net = outputs['pooled_output']\n",
    "    net = tf.keras.layers.Dropout(0.1)(net)\n",
    "    net = tf.keras.layers.Dense(3, activation='softmax', name='classifier')(net)\n",
    "    model = tf.keras.Model(text_input, net)\n",
    "    \n",
    "    loss = tf.keras.losses.CategoricalCrossentropy(from_logits=True)\n",
    "    metric = tf.metrics.CategoricalAccuracy('accuracy')\n",
    "    optimizer = Adam(\n",
    "        learning_rate=5e-05, epsilon=1e-08, decay=0.01, clipnorm=1.0)\n",
    "    model.compile(optimizer=optimizer, loss=loss, metrics=metric)\n",
    "    model.summary()\n",
    "    return model"
   ]
  },
  {
   "cell_type": "code",
   "execution_count": 31,
   "id": "619e5af0",
   "metadata": {},
   "outputs": [],
   "source": [
    "train, valid = train_test_split(df_train, train_size=0.7, random_state=0, stratify=df_train['Sentiment'])\n",
    "y_train, X_train = train['Sentiment'], train.drop(['Sentiment'], axis=1)\n",
    "y_valid, X_valid = valid['Sentiment'], valid.drop(['Sentiment'], axis=1)\n",
    "y_train_c = tf.keras.utils.to_categorical(y_train.astype('category').cat.codes.values, num_classes=3)\n",
    "y_valid_c = tf.keras.utils.to_categorical(y_valid.astype('category').cat.codes.values, num_classes=3)"
   ]
  },
  {
   "cell_type": "code",
   "execution_count": 32,
   "id": "5d5c6310",
   "metadata": {},
   "outputs": [
    {
     "name": "stderr",
     "output_type": "stream",
     "text": [
      "INFO:absl:Using /tmp/tfhub_modules to cache modules.\n",
      "INFO:absl:Downloading TF-Hub Module 'https://tfhub.dev/tensorflow/bert_en_uncased_preprocess/3'.\n",
      "INFO:absl:Downloaded https://tfhub.dev/tensorflow/bert_en_uncased_preprocess/3, Total size: 1.96MB\n",
      "INFO:absl:Downloaded TF-Hub Module 'https://tfhub.dev/tensorflow/bert_en_uncased_preprocess/3'.\n",
      "INFO:absl:Downloading TF-Hub Module 'https://tfhub.dev/tensorflow/small_bert/bert_en_uncased_L-4_H-512_A-8/1'.\n",
      "INFO:absl:Downloaded https://tfhub.dev/tensorflow/small_bert/bert_en_uncased_L-4_H-512_A-8/1, Total size: 115.55MB\n",
      "INFO:absl:Downloaded TF-Hub Module 'https://tfhub.dev/tensorflow/small_bert/bert_en_uncased_L-4_H-512_A-8/1'.\n"
     ]
    },
    {
     "name": "stdout",
     "output_type": "stream",
     "text": [
      "Model: \"model_3\"\n",
      "__________________________________________________________________________________________________\n",
      "Layer (type)                    Output Shape         Param #     Connected to                     \n",
      "==================================================================================================\n",
      "text (InputLayer)               [(None,)]            0                                            \n",
      "__________________________________________________________________________________________________\n",
      "preprocessing (KerasLayer)      {'input_word_ids': ( 0           text[0][0]                       \n",
      "__________________________________________________________________________________________________\n",
      "BERT_encoder (KerasLayer)       {'default': (None, 5 28763649    preprocessing[0][0]              \n",
      "                                                                 preprocessing[0][1]              \n",
      "                                                                 preprocessing[0][2]              \n",
      "__________________________________________________________________________________________________\n",
      "dropout_57 (Dropout)            (None, 512)          0           BERT_encoder[0][5]               \n",
      "__________________________________________________________________________________________________\n",
      "classifier (Dense)              (None, 3)            1539        dropout_57[0][0]                 \n",
      "==================================================================================================\n",
      "Total params: 28,765,188\n",
      "Trainable params: 28,765,187\n",
      "Non-trainable params: 1\n",
      "__________________________________________________________________________________________________\n"
     ]
    }
   ],
   "source": [
    "classifier_model = build_classifier_model()"
   ]
  },
  {
   "cell_type": "code",
   "execution_count": 52,
   "id": "81771532",
   "metadata": {},
   "outputs": [
    {
     "data": {
      "text/html": [
       "<div>\n",
       "<style scoped>\n",
       "    .dataframe tbody tr th:only-of-type {\n",
       "        vertical-align: middle;\n",
       "    }\n",
       "\n",
       "    .dataframe tbody tr th {\n",
       "        vertical-align: top;\n",
       "    }\n",
       "\n",
       "    .dataframe thead th {\n",
       "        text-align: right;\n",
       "    }\n",
       "</style>\n",
       "<table border=\"1\" class=\"dataframe\">\n",
       "  <thead>\n",
       "    <tr style=\"text-align: right;\">\n",
       "      <th></th>\n",
       "      <th>UserName</th>\n",
       "      <th>ScreenName</th>\n",
       "      <th>Location</th>\n",
       "      <th>TweetAt</th>\n",
       "      <th>OriginalTweet</th>\n",
       "    </tr>\n",
       "  </thead>\n",
       "  <tbody>\n",
       "    <tr>\n",
       "      <th>2653</th>\n",
       "      <td>6452</td>\n",
       "      <td>51404</td>\n",
       "      <td>NaN</td>\n",
       "      <td>18-03-2020</td>\n",
       "      <td>@Sideshow_JaneV3 Perhaps... I think the world ...</td>\n",
       "    </tr>\n",
       "    <tr>\n",
       "      <th>10436</th>\n",
       "      <td>14235</td>\n",
       "      <td>59187</td>\n",
       "      <td>ÜT: 48.931022,2.244642</td>\n",
       "      <td>20-03-2020</td>\n",
       "      <td>Ok. So everyone has gone nuts for bog roll but...</td>\n",
       "    </tr>\n",
       "    <tr>\n",
       "      <th>3093</th>\n",
       "      <td>6892</td>\n",
       "      <td>51844</td>\n",
       "      <td>NaN</td>\n",
       "      <td>18-03-2020</td>\n",
       "      <td>Just saw that amazon has to hire 100,000 addit...</td>\n",
       "    </tr>\n",
       "  </tbody>\n",
       "</table>\n",
       "</div>"
      ],
      "text/plain": [
       "       UserName  ScreenName                Location     TweetAt  \\\n",
       "2653       6452       51404                     NaN  18-03-2020   \n",
       "10436     14235       59187  ÜT: 48.931022,2.244642  20-03-2020   \n",
       "3093       6892       51844                     NaN  18-03-2020   \n",
       "\n",
       "                                           OriginalTweet  \n",
       "2653   @Sideshow_JaneV3 Perhaps... I think the world ...  \n",
       "10436  Ok. So everyone has gone nuts for bog roll but...  \n",
       "3093   Just saw that amazon has to hire 100,000 addit...  "
      ]
     },
     "execution_count": 52,
     "metadata": {},
     "output_type": "execute_result"
    }
   ],
   "source": [
    "X_train.head(3)"
   ]
  },
  {
   "cell_type": "code",
   "execution_count": 58,
   "id": "de999066",
   "metadata": {},
   "outputs": [
    {
     "data": {
      "text/plain": [
       "'trained_model/light_version'"
      ]
     },
     "execution_count": 58,
     "metadata": {},
     "output_type": "execute_result"
    }
   ],
   "source": [
    "checkpoint_path = \"trained_model/cp.ckpt\"\n",
    "os.path.dirname(checkpoint_path)"
   ]
  },
  {
   "cell_type": "code",
   "execution_count": 62,
   "id": "65e09c7e",
   "metadata": {},
   "outputs": [],
   "source": [
    "checkpoint_path = \"trained_model/cp.ckpt\"\n",
    "checkpoint_dir = os.path.dirname(checkpoint_path)\n",
    "\n",
    "# Create a callback that saves the model's weights\n",
    "cp_callback = tf.keras.callbacks.ModelCheckpoint(filepath=checkpoint_path,\n",
    "                                                 save_weights_only=True,\n",
    "                                                 verbose=1)"
   ]
  },
  {
   "cell_type": "code",
   "execution_count": 34,
   "id": "2a26c6fb",
   "metadata": {},
   "outputs": [
    {
     "name": "stdout",
     "output_type": "stream",
     "text": [
      "Epoch 1/20\n",
      "266/266 [==============================] - 67s 253ms/step - loss: 0.3704 - accuracy: 0.8684 - val_loss: 0.5594 - val_accuracy: 0.7980\n",
      "Epoch 2/20\n",
      "266/266 [==============================] - 67s 251ms/step - loss: 0.3438 - accuracy: 0.8771 - val_loss: 0.5708 - val_accuracy: 0.7980\n",
      "Epoch 3/20\n",
      "266/266 [==============================] - 67s 252ms/step - loss: 0.3274 - accuracy: 0.8852 - val_loss: 0.5735 - val_accuracy: 0.8032\n",
      "Epoch 4/20\n",
      "266/266 [==============================] - 67s 251ms/step - loss: 0.3149 - accuracy: 0.8893 - val_loss: 0.5713 - val_accuracy: 0.8049\n",
      "Epoch 5/20\n",
      "266/266 [==============================] - 67s 250ms/step - loss: 0.3086 - accuracy: 0.8909 - val_loss: 0.5775 - val_accuracy: 0.8043\n",
      "Epoch 6/20\n",
      "266/266 [==============================] - 67s 250ms/step - loss: 0.2897 - accuracy: 0.8981 - val_loss: 0.5821 - val_accuracy: 0.8016\n",
      "Epoch 7/20\n",
      "266/266 [==============================] - 67s 250ms/step - loss: 0.2769 - accuracy: 0.9022 - val_loss: 0.5882 - val_accuracy: 0.8024\n",
      "Epoch 8/20\n",
      "266/266 [==============================] - 66s 250ms/step - loss: 0.2703 - accuracy: 0.9094 - val_loss: 0.5929 - val_accuracy: 0.8021\n",
      "Epoch 9/20\n",
      "266/266 [==============================] - 66s 250ms/step - loss: 0.2673 - accuracy: 0.9087 - val_loss: 0.5941 - val_accuracy: 0.8027\n",
      "Epoch 10/20\n",
      "266/266 [==============================] - 66s 250ms/step - loss: 0.2587 - accuracy: 0.9080 - val_loss: 0.5971 - val_accuracy: 0.8030\n",
      "Epoch 11/20\n",
      "266/266 [==============================] - 67s 251ms/step - loss: 0.2554 - accuracy: 0.9117 - val_loss: 0.5968 - val_accuracy: 0.8063\n",
      "Epoch 12/20\n",
      "266/266 [==============================] - 66s 250ms/step - loss: 0.2561 - accuracy: 0.9108 - val_loss: 0.5977 - val_accuracy: 0.8065\n",
      "Epoch 13/20\n",
      "266/266 [==============================] - 67s 252ms/step - loss: 0.2497 - accuracy: 0.9141 - val_loss: 0.5981 - val_accuracy: 0.8041\n",
      "Epoch 14/20\n",
      "266/266 [==============================] - 67s 252ms/step - loss: 0.2372 - accuracy: 0.9168 - val_loss: 0.6042 - val_accuracy: 0.8063\n",
      "Epoch 15/20\n",
      "266/266 [==============================] - 66s 250ms/step - loss: 0.2391 - accuracy: 0.9166 - val_loss: 0.6033 - val_accuracy: 0.8068\n",
      "Epoch 16/20\n",
      "266/266 [==============================] - 66s 249ms/step - loss: 0.2295 - accuracy: 0.9234 - val_loss: 0.6080 - val_accuracy: 0.8068\n",
      "Epoch 17/20\n",
      "266/266 [==============================] - 66s 249ms/step - loss: 0.2277 - accuracy: 0.9204 - val_loss: 0.6113 - val_accuracy: 0.8074\n",
      "Epoch 18/20\n",
      "266/266 [==============================] - 66s 249ms/step - loss: 0.2158 - accuracy: 0.9273 - val_loss: 0.6163 - val_accuracy: 0.8052\n",
      "Epoch 19/20\n",
      "266/266 [==============================] - 66s 249ms/step - loss: 0.2218 - accuracy: 0.9258 - val_loss: 0.6161 - val_accuracy: 0.8065\n",
      "Epoch 20/20\n",
      "266/266 [==============================] - 66s 249ms/step - loss: 0.2175 - accuracy: 0.9260 - val_loss: 0.6154 - val_accuracy: 0.8065\n"
     ]
    }
   ],
   "source": [
    "history = classifier_model.fit(x=X_train['OriginalTweet'].values, y=y_train_c, \n",
    "                               validation_data=(X_valid['OriginalTweet'].values, y_valid_c), epochs=20)"
   ]
  },
  {
   "cell_type": "code",
   "execution_count": null,
   "id": "05fb6275",
   "metadata": {},
   "outputs": [],
   "source": [
    "# classifier_model.save_weights('trained_model/small_version/small_bert_weights')\n",
    "## test\n",
    "predicted_prob = classifier_model.predict(X_valid['OriginalTweet'].values)\n",
    "predicted = [np.argmax(pred) for pred in predicted_prob]"
   ]
  },
  {
   "cell_type": "code",
   "execution_count": 35,
   "id": "aff712c3",
   "metadata": {},
   "outputs": [],
   "source": [
    "classifier_model.save_weights('trained_model/small_version/small_bert_weights')"
   ]
  },
  {
   "cell_type": "code",
   "execution_count": 65,
   "id": "88269ef1",
   "metadata": {},
   "outputs": [
    {
     "name": "stdout",
     "output_type": "stream",
     "text": [
      "Model: \"model_4\"\n",
      "__________________________________________________________________________________________________\n",
      "Layer (type)                    Output Shape         Param #     Connected to                     \n",
      "==================================================================================================\n",
      "text (InputLayer)               [(None,)]            0                                            \n",
      "__________________________________________________________________________________________________\n",
      "preprocessing (KerasLayer)      {'input_word_ids': ( 0           text[0][0]                       \n",
      "__________________________________________________________________________________________________\n",
      "BERT_encoder (KerasLayer)       {'sequence_output':  28763649    preprocessing[0][0]              \n",
      "                                                                 preprocessing[0][1]              \n",
      "                                                                 preprocessing[0][2]              \n",
      "__________________________________________________________________________________________________\n",
      "dropout_58 (Dropout)            (None, 512)          0           BERT_encoder[0][5]               \n",
      "__________________________________________________________________________________________________\n",
      "classifier (Dense)              (None, 3)            1539        dropout_58[0][0]                 \n",
      "==================================================================================================\n",
      "Total params: 28,765,188\n",
      "Trainable params: 28,765,187\n",
      "Non-trainable params: 1\n",
      "__________________________________________________________________________________________________\n"
     ]
    },
    {
     "data": {
      "text/plain": [
       "<tensorflow.python.training.tracking.util.CheckpointLoadStatus at 0x7f0c4b5ee990>"
      ]
     },
     "execution_count": 65,
     "metadata": {},
     "output_type": "execute_result"
    }
   ],
   "source": [
    "model1 = build_classifier_model()\n",
    "model1.load_weights(checkpoint_path)"
   ]
  },
  {
   "cell_type": "markdown",
   "id": "ddea6b0c",
   "metadata": {},
   "source": [
    "### 4. CatBoost"
   ]
  },
  {
   "cell_type": "code",
   "execution_count": 66,
   "id": "d7efa096",
   "metadata": {},
   "outputs": [],
   "source": [
    "def fit_model(train_pool, test_pool, **kwargs):\n",
    "    model = CatBoostClassifier(\n",
    "        task_type='GPU',\n",
    "        iterations=5000,\n",
    "        eval_metric='Accuracy',\n",
    "        od_type='Iter',\n",
    "        od_wait=500,\n",
    "        **kwargs)\n",
    "    return model.fit(train_pool, eval_set=test_pool, verbose=100, plot=True, use_best_model=True)"
   ]
  },
  {
   "cell_type": "code",
   "execution_count": 57,
   "id": "b8077efa",
   "metadata": {},
   "outputs": [
    {
     "data": {
      "text/html": [
       "<div>\n",
       "<style scoped>\n",
       "    .dataframe tbody tr th:only-of-type {\n",
       "        vertical-align: middle;\n",
       "    }\n",
       "\n",
       "    .dataframe tbody tr th {\n",
       "        vertical-align: top;\n",
       "    }\n",
       "\n",
       "    .dataframe thead th {\n",
       "        text-align: right;\n",
       "    }\n",
       "</style>\n",
       "<table border=\"1\" class=\"dataframe\">\n",
       "  <thead>\n",
       "    <tr style=\"text-align: right;\">\n",
       "      <th></th>\n",
       "      <th>UserName</th>\n",
       "      <th>ScreenName</th>\n",
       "      <th>Location</th>\n",
       "      <th>TweetAt</th>\n",
       "      <th>OriginalTweet</th>\n",
       "    </tr>\n",
       "  </thead>\n",
       "  <tbody>\n",
       "    <tr>\n",
       "      <th>0</th>\n",
       "      <td>6452</td>\n",
       "      <td>51404</td>\n",
       "      <td>NaN</td>\n",
       "      <td>18-03-2020</td>\n",
       "      <td>@Sideshow_JaneV3 Perhaps... I think the world ...</td>\n",
       "    </tr>\n",
       "    <tr>\n",
       "      <th>1</th>\n",
       "      <td>14235</td>\n",
       "      <td>59187</td>\n",
       "      <td>ÜT: 48.931022,2.244642</td>\n",
       "      <td>20-03-2020</td>\n",
       "      <td>Ok. So everyone has gone nuts for bog roll but...</td>\n",
       "    </tr>\n",
       "    <tr>\n",
       "      <th>2</th>\n",
       "      <td>6892</td>\n",
       "      <td>51844</td>\n",
       "      <td>NaN</td>\n",
       "      <td>18-03-2020</td>\n",
       "      <td>Just saw that amazon has to hire 100,000 addit...</td>\n",
       "    </tr>\n",
       "    <tr>\n",
       "      <th>3</th>\n",
       "      <td>6530</td>\n",
       "      <td>51482</td>\n",
       "      <td>Arcadia, Ca</td>\n",
       "      <td>18-03-2020</td>\n",
       "      <td>I m standing in line with more than 50 people ...</td>\n",
       "    </tr>\n",
       "    <tr>\n",
       "      <th>4</th>\n",
       "      <td>7715</td>\n",
       "      <td>52667</td>\n",
       "      <td>NaN</td>\n",
       "      <td>18-03-2020</td>\n",
       "      <td>#Verizon sent us to an empty store and risk ge...</td>\n",
       "    </tr>\n",
       "  </tbody>\n",
       "</table>\n",
       "</div>"
      ],
      "text/plain": [
       "   UserName  ScreenName                Location     TweetAt  \\\n",
       "0      6452       51404                     NaN  18-03-2020   \n",
       "1     14235       59187  ÜT: 48.931022,2.244642  20-03-2020   \n",
       "2      6892       51844                     NaN  18-03-2020   \n",
       "3      6530       51482             Arcadia, Ca  18-03-2020   \n",
       "4      7715       52667                     NaN  18-03-2020   \n",
       "\n",
       "                                       OriginalTweet  \n",
       "0  @Sideshow_JaneV3 Perhaps... I think the world ...  \n",
       "1  Ok. So everyone has gone nuts for bog roll but...  \n",
       "2  Just saw that amazon has to hire 100,000 addit...  \n",
       "3  I m standing in line with more than 50 people ...  \n",
       "4  #Verizon sent us to an empty store and risk ge...  "
      ]
     },
     "execution_count": 57,
     "metadata": {},
     "output_type": "execute_result"
    }
   ],
   "source": [
    "X_train.reset_index(drop=True).loc[0:4]"
   ]
  },
  {
   "cell_type": "code",
   "execution_count": 67,
   "id": "429d75c7",
   "metadata": {},
   "outputs": [],
   "source": [
    "train_pool = Pool(data=X_train[['UserName', 'ScreenName', 'OriginalTweet']], label=y_train, text_features=['OriginalTweet'])\n",
    "valid_pool = Pool(data=X_valid[['UserName', 'ScreenName', 'OriginalTweet']], label=y_valid, text_features=['OriginalTweet'])"
   ]
  },
  {
   "cell_type": "code",
   "execution_count": 68,
   "id": "d4c20f13",
   "metadata": {},
   "outputs": [
    {
     "name": "stderr",
     "output_type": "stream",
     "text": [
      "Custom logger is already specified. Specify more than one logger at same time is not thread safe."
     ]
    },
    {
     "data": {
      "application/vnd.jupyter.widget-view+json": {
       "model_id": "f5a1e23d2e5347afad20509600a40522",
       "version_major": 2,
       "version_minor": 0
      },
      "text/plain": [
       "MetricVisualizer(layout=Layout(align_self='stretch', height='500px'))"
      ]
     },
     "metadata": {},
     "output_type": "display_data"
    },
    {
     "name": "stderr",
     "output_type": "stream",
     "text": [
      "Warning: less than 75% gpu memory available for training. Free: 869.75 Total: 15109.75\n"
     ]
    },
    {
     "name": "stdout",
     "output_type": "stream",
     "text": [
      "0:\tlearn: 0.4799764\ttest: 0.4762297\tbest: 0.4762297 (0)\ttotal: 16.2ms\tremaining: 1m 20s\n",
      "100:\tlearn: 0.7707892\ttest: 0.7153064\tbest: 0.7153064 (100)\ttotal: 829ms\tremaining: 40.2s\n",
      "200:\tlearn: 0.8114252\ttest: 0.7221764\tbest: 0.7235504 (196)\ttotal: 1.41s\tremaining: 33.6s\n",
      "300:\tlearn: 0.8401649\ttest: 0.7315196\tbest: 0.7331685 (295)\ttotal: 1.97s\tremaining: 30.8s\n",
      "400:\tlearn: 0.8638398\ttest: 0.7375653\tbest: 0.7400385 (382)\ttotal: 2.55s\tremaining: 29.3s\n",
      "500:\tlearn: 0.8779741\ttest: 0.7416873\tbest: 0.7455345 (471)\ttotal: 3.11s\tremaining: 28s\n",
      "600:\tlearn: 0.8908127\ttest: 0.7444353\tbest: 0.7455345 (471)\ttotal: 3.69s\tremaining: 27.1s\n",
      "700:\tlearn: 0.9038869\ttest: 0.7441605\tbest: 0.7466337 (634)\ttotal: 4.3s\tremaining: 26.4s\n",
      "800:\tlearn: 0.9138987\ttest: 0.7405881\tbest: 0.7466337 (634)\ttotal: 4.88s\tremaining: 25.6s\n",
      "900:\tlearn: 0.9250883\ttest: 0.7436109\tbest: 0.7466337 (634)\ttotal: 5.51s\tremaining: 25.1s\n",
      "1000:\tlearn: 0.9365135\ttest: 0.7430613\tbest: 0.7466337 (634)\ttotal: 6.12s\tremaining: 24.5s\n",
      "1100:\tlearn: 0.9471143\ttest: 0.7455345\tbest: 0.7469085 (1040)\ttotal: 6.73s\tremaining: 23.8s\n",
      "1200:\tlearn: 0.9532391\ttest: 0.7477329\tbest: 0.7485573 (1170)\ttotal: 7.35s\tremaining: 23.3s\n",
      "1300:\tlearn: 0.9621908\ttest: 0.7477329\tbest: 0.7502061 (1290)\ttotal: 7.95s\tremaining: 22.6s\n",
      "1400:\tlearn: 0.9707892\ttest: 0.7460841\tbest: 0.7502061 (1290)\ttotal: 8.58s\tremaining: 22s\n",
      "1500:\tlearn: 0.9747939\ttest: 0.7469085\tbest: 0.7502061 (1290)\ttotal: 9.21s\tremaining: 21.5s\n",
      "1600:\tlearn: 0.9791519\ttest: 0.7452597\tbest: 0.7502061 (1290)\ttotal: 9.82s\tremaining: 20.8s\n",
      "1700:\tlearn: 0.9836278\ttest: 0.7466337\tbest: 0.7502061 (1290)\ttotal: 10.4s\tremaining: 20.2s\n",
      "bestTest = 0.7502061006\n",
      "bestIteration = 1290\n",
      "Shrink model to first 1291 iterations.\n"
     ]
    }
   ],
   "source": [
    "model = fit_model(\n",
    "    train_pool, valid_pool,\n",
    "    learning_rate=0.35,\n",
    "    tokenizers=[\n",
    "        {\n",
    "            'tokenizer_id': 'Sense',\n",
    "            'separator_type': 'BySense',\n",
    "            'lowercasing': 'True',\n",
    "            'token_types':['Word', 'Number', 'SentenceBreak'],\n",
    "            'sub_tokens_policy':'SeveralTokens'\n",
    "        }      \n",
    "    ],\n",
    "    dictionaries = [\n",
    "        {\n",
    "            'dictionary_id': 'Word',\n",
    "            'max_dictionary_size': '50000'\n",
    "        }\n",
    "    ],\n",
    "    feature_calcers = [\n",
    "        'BoW:top_tokens_count=10000'\n",
    "    ]\n",
    ")"
   ]
  },
  {
   "cell_type": "code",
   "execution_count": null,
   "id": "cd9dd094",
   "metadata": {},
   "outputs": [],
   "source": []
  }
 ],
 "metadata": {
  "environment": {
   "name": "tf2-gpu.2-5.m76",
   "type": "gcloud",
   "uri": "gcr.io/deeplearning-platform-release/tf2-gpu.2-5:m76"
  },
  "kernelspec": {
   "display_name": "Python [conda env:root] *",
   "language": "python",
   "name": "conda-root-py"
  },
  "language_info": {
   "codemirror_mode": {
    "name": "ipython",
    "version": 3
   },
   "file_extension": ".py",
   "mimetype": "text/x-python",
   "name": "python",
   "nbconvert_exporter": "python",
   "pygments_lexer": "ipython3",
   "version": "3.7.10"
  }
 },
 "nbformat": 4,
 "nbformat_minor": 5
}
