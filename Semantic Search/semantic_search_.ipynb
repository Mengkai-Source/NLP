{
 "cells": [
  {
   "cell_type": "markdown",
   "id": "4e2da136-c1ea-4b03-bfcc-7310344c088f",
   "metadata": {
    "tags": []
   },
   "source": [
    "## Semantic Search Tool Exploration - 09/01/2023\n",
    "- Name the tool with the fastest speed"
   ]
  },
  {
   "cell_type": "code",
   "execution_count": 1,
   "id": "9d87400a-4b08-46aa-a375-a35a16dea077",
   "metadata": {
    "tags": []
   },
   "outputs": [
    {
     "name": "stderr",
     "output_type": "stream",
     "text": [
      "/opt/cortex-installs/miniconda/envs/ipykernel_python3.10/lib/python3.10/site-packages/tqdm/auto.py:21: TqdmWarning: IProgress not found. Please update jupyter and ipywidgets. See https://ipywidgets.readthedocs.io/en/stable/user_install.html\n",
      "  from .autonotebook import tqdm as notebook_tqdm\n"
     ]
    }
   ],
   "source": [
    "from annoy import AnnoyIndex\n",
    "import numpy as np\n",
    "import pandas as pd\n",
    "import re\n",
    "import pickle\n",
    "\n",
    "from sentence_transformers import SentenceTransformer, util\n",
    "import torch\n",
    "\n",
    "pd.set_option('display.max_columns', None)"
   ]
  },
  {
   "cell_type": "code",
   "execution_count": 2,
   "id": "e9f820a4-3fc8-4110-aa58-cc14eddc51e5",
   "metadata": {
    "tags": []
   },
   "outputs": [
    {
     "name": "stdout",
     "output_type": "stream",
     "text": [
      "(14524269, 40)\n"
     ]
    }
   ],
   "source": [
    "# Load test data\n",
    "df_service = pd.read_parquet('../../../2way_sms_data/all_service_data.parquet')\n",
    "print(df_service.shape)"
   ]
  },
  {
   "cell_type": "code",
   "execution_count": 3,
   "id": "adff9303-8ab2-4e81-b696-ac87b62d4f6e",
   "metadata": {
    "tags": []
   },
   "outputs": [
    {
     "name": "stdout",
     "output_type": "stream",
     "text": [
      "(349657, 40)\n",
      "(120565, 40) (137205, 40)\n"
     ]
    }
   ],
   "source": [
    "np.random.seed(42)\n",
    "sample_conv_ids = df_service['_id'].unique()[np.random.choice(df_service['_id'].unique().shape[0], 50000)]\n",
    "df_service_sample = df_service[df_service['_id'].isin(sample_conv_ids)].copy()\n",
    "print(df_service_sample.shape)\n",
    "df_service_sample_outbound = df_service_sample[(df_service_sample['messageList.direction']=='outbound') & (df_service_sample['messageList.repName'].isin(['system', 'Billing Bot']))].reset_index(drop=True)\n",
    "df_service_sample_inbound = df_service_sample[(df_service_sample['messageList.direction']=='inbound') & (~df_service_sample['messageList.body'].isnull())].reset_index(drop=True)\n",
    "print(df_service_sample_outbound.shape, df_service_sample_inbound.shape)"
   ]
  },
  {
   "cell_type": "code",
   "execution_count": 5,
   "id": "db8d6468-3751-46d2-a409-cd7e42357ede",
   "metadata": {
    "tags": []
   },
   "outputs": [],
   "source": [
    "# Corpus with example sentences\n",
    "corpus = df_service_sample_inbound['messageList.body'].tolist()"
   ]
  },
  {
   "cell_type": "markdown",
   "id": "2ff29a8f-6175-471e-824f-d66917b4f5c6",
   "metadata": {
    "tags": []
   },
   "source": [
    "### SBERT\n",
    "Reference: https://www.sbert.net/examples/applications/semantic-search/README.html"
   ]
  },
  {
   "cell_type": "code",
   "execution_count": 16,
   "id": "5cf1eac6-aa5a-4a5a-83cd-e0d3c7193cb4",
   "metadata": {
    "tags": []
   },
   "outputs": [
    {
     "name": "stderr",
     "output_type": "stream",
     "text": [
      "Batches: 100%|██████████| 2144/2144 [00:27<00:00, 78.35it/s] \n"
     ]
    },
    {
     "name": "stdout",
     "output_type": "stream",
     "text": [
      "CPU times: user 57.8 s, sys: 12 s, total: 1min 9s\n",
      "Wall time: 29.9 s\n"
     ]
    }
   ],
   "source": [
    "%%time\n",
    "\"\"\"\n",
    "This is a simple application for sentence embeddings: semantic search\n",
    "\n",
    "We have a corpus with various sentences. Then, for a given query sentence,\n",
    "we want to find the most similar sentence in this corpus.\n",
    "\n",
    "This script outputs for various queries the top 5 most similar sentences in the corpus.\n",
    "\"\"\"\n",
    "\n",
    "embedder = SentenceTransformer('all-MiniLM-L6-v2')\n",
    "corpus_embeddings = embedder.encode(corpus, batch_size=64, show_progress_bar=True, convert_to_tensor=True, normalize_embeddings=True)\n",
    "\n",
    "with open('corpus_embeddings', 'wb') as pkl:\n",
    "    pickle.dump(corpus_embeddings, pkl)\n",
    "\n",
    "#with open('corpus_embeddings', 'rb') as pkl:\n",
    "#    doc_embedding = pickle.load(pkl)"
   ]
  },
  {
   "cell_type": "code",
   "execution_count": 17,
   "id": "e13f9fa7-f0ce-476f-a628-8887c81d14a8",
   "metadata": {
    "tags": []
   },
   "outputs": [],
   "source": [
    "def search(query, top_n):\n",
    "    \n",
    "    # Get the query's embedding\n",
    "    query_embeddings = embedder.encode([query], convert_to_tensor=True, normalize_embeddings=True)\n",
    "    # Retrieve the nearest neighbors\n",
    "    query_embeddings = query_embeddings.to('cuda')\n",
    "    # Format the results\n",
    "    results = util.semantic_search(query_embeddings, corpus_embeddings, top_k=top_n)[0]\n",
    "    for result in results:\n",
    "        result.update(\n",
    "            {'message': df_service_sample_inbound.loc[result['corpus_id'], 'messageList.body'],\n",
    "             'conversation_id': df_service_sample_inbound.loc[result['corpus_id'], '_id']})\n",
    "    return results"
   ]
  },
  {
   "cell_type": "code",
   "execution_count": 18,
   "id": "864e305f-e67b-481e-9b43-994bfde6702f",
   "metadata": {
    "tags": []
   },
   "outputs": [
    {
     "name": "stdout",
     "output_type": "stream",
     "text": [
      "CPU times: user 13.2 ms, sys: 353 µs, total: 13.5 ms\n",
      "Wall time: 12.8 ms\n"
     ]
    }
   ],
   "source": [
    "%%time\n",
    "results = search('I want to cancel my policy', top_n=10)"
   ]
  },
  {
   "cell_type": "markdown",
   "id": "148ebd37-ca88-4303-9695-d02d07d0cad0",
   "metadata": {
    "tags": []
   },
   "source": [
    "## Annoy - Build index for Service messages\n",
    "Reference: https://pypi.org/project/annoy/"
   ]
  },
  {
   "cell_type": "code",
   "execution_count": 19,
   "id": "d6491e57-bb00-4d2c-a178-6a400036134d",
   "metadata": {
    "tags": []
   },
   "outputs": [
    {
     "name": "stderr",
     "output_type": "stream",
     "text": [
      "Batches: 100%|██████████| 2144/2144 [00:26<00:00, 81.98it/s] \n"
     ]
    },
    {
     "name": "stdout",
     "output_type": "stream",
     "text": [
      "CPU times: user 13min 31s, sys: 1min 30s, total: 15min 1s\n",
      "Wall time: 12min 24s\n"
     ]
    },
    {
     "data": {
      "text/plain": [
       "True"
      ]
     },
     "execution_count": 19,
     "metadata": {},
     "output_type": "execute_result"
    }
   ],
   "source": [
    "%%time\n",
    "embedder = SentenceTransformer('all-MiniLM-L6-v2')\n",
    "\n",
    "# Corpus with example sentences\n",
    "corpus = df_service_sample_inbound['messageList.body'].tolist()\n",
    "corpus_embeddings = embedder.encode(corpus, batch_size=64, show_progress_bar=True, convert_to_tensor=True, normalize_embeddings=True)\n",
    "\n",
    "search_index = AnnoyIndex(corpus_embeddings.shape[1], 'angular')\n",
    "index_inbound = df_service_sample_inbound.index.values\n",
    "\n",
    "for i in range(len(corpus_embeddings)):\n",
    "    #search_index.add_item(i, corpus_embeddings[i])\n",
    "    search_index.add_item(index_inbound[i], corpus_embeddings[i])\n",
    "search_index.build(100, n_jobs=-1) # 10 trees\n",
    "search_index.save('service_inbound.ann')"
   ]
  },
  {
   "cell_type": "code",
   "execution_count": 20,
   "id": "fd39c706-a74e-4002-9bf6-12e55b072918",
   "metadata": {
    "tags": []
   },
   "outputs": [
    {
     "data": {
      "text/plain": [
       "True"
      ]
     },
     "execution_count": 20,
     "metadata": {},
     "output_type": "execute_result"
    }
   ],
   "source": [
    "search_index.load('service_inbound.ann')"
   ]
  },
  {
   "cell_type": "code",
   "execution_count": 21,
   "id": "189b7756-20ab-4a5c-98ee-4f4a956940e0",
   "metadata": {
    "tags": []
   },
   "outputs": [],
   "source": [
    "pd.set_option('display.max_colwidth', None)\n",
    "# texts = df_service_inbound['messageList.body'].values\n",
    "\n",
    "def search(query, top_n):\n",
    "\n",
    "    # Get the query's embedding\n",
    "    query_embed = embedder.encode([query], convert_to_tensor=True, normalize_embeddings=True)\n",
    "\n",
    "    # Retrieve the nearest neighbors\n",
    "    similar_item_ids = search_index.get_nns_by_vector(query_embed[0], top_n, include_distances=True)\n",
    "    # Format the results\n",
    "    results = {\n",
    "        'texts':  df_service_sample_inbound.loc[similar_item_ids[0], 'messageList.body'],\n",
    "        'distance': similar_item_ids[1],\n",
    "        'corpus_id': similar_item_ids[0],\n",
    "        'conversation_id': df_service_sample_inbound.loc[similar_item_ids[0], '_id'],\n",
    "    }\n",
    "    # print(similar_item_ids)\n",
    "    return results"
   ]
  },
  {
   "cell_type": "code",
   "execution_count": 22,
   "id": "3d9ede32-e6bd-4e62-b16b-dbb72849f8c5",
   "metadata": {
    "tags": []
   },
   "outputs": [
    {
     "name": "stdout",
     "output_type": "stream",
     "text": [
      "CPU times: user 19.7 ms, sys: 7.99 ms, total: 27.7 ms\n",
      "Wall time: 27.1 ms\n"
     ]
    }
   ],
   "source": [
    "%%time\n",
    "query = 'I want to cancel my policy'\n",
    "results = search(query, top_n=100)"
   ]
  },
  {
   "cell_type": "markdown",
   "id": "ded01756-bfc7-4252-8deb-888360d61555",
   "metadata": {},
   "source": [
    "## Faiss - Build index for Service messages\n",
    "Reference: https://www.pinecone.io/learn/series/faiss/faiss-tutorial/"
   ]
  },
  {
   "cell_type": "code",
   "execution_count": 6,
   "id": "6e50f334-1b01-4872-8c17-5f7cc3dac48e",
   "metadata": {
    "tags": []
   },
   "outputs": [],
   "source": [
    "import faiss"
   ]
  },
  {
   "cell_type": "code",
   "execution_count": 7,
   "id": "64cf9189-fb3a-4db8-96cf-7ddd63cb3b6f",
   "metadata": {
    "tags": []
   },
   "outputs": [
    {
     "name": "stderr",
     "output_type": "stream",
     "text": [
      "2023-09-05 13:23:44.856638: I tensorflow/core/util/util.cc:169] oneDNN custom operations are on. You may see slightly different numerical results due to floating-point round-off errors from different computation orders. To turn them off, set the environment variable `TF_ENABLE_ONEDNN_OPTS=0`.\n",
      "Batches: 100%|██████████| 2144/2144 [00:29<00:00, 72.69it/s] \n"
     ]
    },
    {
     "name": "stdout",
     "output_type": "stream",
     "text": [
      "384\n"
     ]
    }
   ],
   "source": [
    "embedder = SentenceTransformer('all-MiniLM-L6-v2')\n",
    "corpus_embeddings = embedder.encode(corpus, batch_size=64, show_progress_bar=True, convert_to_tensor=True, normalize_embeddings=True)\n",
    "d = corpus_embeddings.shape[1]\n",
    "print(d)"
   ]
  },
  {
   "cell_type": "markdown",
   "id": "fc51b94f-d6d0-40b2-a536-1b1759a74ff8",
   "metadata": {
    "tags": []
   },
   "source": [
    "### IndexFlatL2 - exhaustive search"
   ]
  },
  {
   "cell_type": "code",
   "execution_count": 8,
   "id": "54878563-6811-437f-b774-5f06b5feec46",
   "metadata": {
    "tags": []
   },
   "outputs": [
    {
     "data": {
      "text/plain": [
       "True"
      ]
     },
     "execution_count": 8,
     "metadata": {},
     "output_type": "execute_result"
    }
   ],
   "source": [
    "index = faiss.IndexFlatL2(d)\n",
    "index.is_trained"
   ]
  },
  {
   "cell_type": "code",
   "execution_count": 17,
   "id": "c54db2e6-86ce-4c78-9bbb-a230da2d2f5d",
   "metadata": {
    "tags": []
   },
   "outputs": [
    {
     "data": {
      "text/plain": [
       "137205"
      ]
     },
     "execution_count": 17,
     "metadata": {},
     "output_type": "execute_result"
    }
   ],
   "source": [
    "index.add(corpus_embeddings.cpu().numpy())\n",
    "index.ntotal"
   ]
  },
  {
   "cell_type": "code",
   "execution_count": 23,
   "id": "01b442fb-ca73-42f3-9337-20b7aab26d03",
   "metadata": {
    "tags": []
   },
   "outputs": [
    {
     "name": "stdout",
     "output_type": "stream",
     "text": [
      "[[  842   895 11037  7533]]\n",
      "842      I want to cancel my policy\n",
      "895      I want to cancel my policy\n",
      "11037    I want to cancel my policy\n",
      "7533     I want to cancel my policy\n",
      "Name: messageList.body, dtype: object\n",
      "CPU times: user 78.5 ms, sys: 0 ns, total: 78.5 ms\n",
      "Wall time: 77.1 ms\n"
     ]
    }
   ],
   "source": [
    "%%time\n",
    "k = 4\n",
    "xq = embedder.encode([\"I want to cancel my policy\"], normalize_embeddings=True)\n",
    "D, I = index.search(xq, k)  # search\n",
    "print(I)\n",
    "print(df_service_sample_inbound['messageList.body'].iloc[I[0]])"
   ]
  },
  {
   "cell_type": "markdown",
   "id": "35d040e8-a3fa-4187-bd98-c7e5968a2f7f",
   "metadata": {},
   "source": [
    "### IndexFlatL2 + IndexIVFFlat"
   ]
  },
  {
   "cell_type": "code",
   "execution_count": 24,
   "id": "bc8d35b4-e157-4d57-b157-0fa1d378d656",
   "metadata": {
    "tags": []
   },
   "outputs": [],
   "source": [
    "nlist = 50  # how many cells\n",
    "quantizer = faiss.IndexFlatL2(d)\n",
    "index = faiss.IndexIVFFlat(quantizer, d, nlist)"
   ]
  },
  {
   "cell_type": "code",
   "execution_count": 25,
   "id": "86225c1c-2d74-4be7-b8f9-e2e0c29d41fc",
   "metadata": {
    "tags": []
   },
   "outputs": [
    {
     "data": {
      "text/plain": [
       "False"
      ]
     },
     "execution_count": 25,
     "metadata": {},
     "output_type": "execute_result"
    }
   ],
   "source": [
    "index.is_trained"
   ]
  },
  {
   "cell_type": "code",
   "execution_count": 27,
   "id": "010ac481-d655-46f7-b2d9-1286ae52b75c",
   "metadata": {
    "tags": []
   },
   "outputs": [
    {
     "data": {
      "text/plain": [
       "True"
      ]
     },
     "execution_count": 27,
     "metadata": {},
     "output_type": "execute_result"
    }
   ],
   "source": [
    "index.train(corpus_embeddings.cpu().numpy())\n",
    "index.is_trained"
   ]
  },
  {
   "cell_type": "code",
   "execution_count": 28,
   "id": "3ed39e3f-2370-473e-9a20-d30a1320d900",
   "metadata": {
    "tags": []
   },
   "outputs": [
    {
     "data": {
      "text/plain": [
       "137205"
      ]
     },
     "execution_count": 28,
     "metadata": {},
     "output_type": "execute_result"
    }
   ],
   "source": [
    "index.add(corpus_embeddings.cpu().numpy())\n",
    "index.ntotal"
   ]
  },
  {
   "cell_type": "code",
   "execution_count": 29,
   "id": "7f46ca99-3ebe-4fc2-9375-cf52b2d9a010",
   "metadata": {
    "tags": []
   },
   "outputs": [
    {
     "name": "stdout",
     "output_type": "stream",
     "text": [
      "[[  842  7533 11037   895]]\n",
      "842      I want to cancel my policy\n",
      "7533     I want to cancel my policy\n",
      "11037    I want to cancel my policy\n",
      "895      I want to cancel my policy\n",
      "Name: messageList.body, dtype: object\n",
      "CPU times: user 15 ms, sys: 0 ns, total: 15 ms\n",
      "Wall time: 13.3 ms\n"
     ]
    }
   ],
   "source": [
    "%%time\n",
    "k = 4\n",
    "xq = embedder.encode([\"I want to cancel my policy\"], normalize_embeddings=True)\n",
    "D, I = index.search(xq, k)  # search\n",
    "print(I)\n",
    "print(df_service_sample_inbound['messageList.body'].iloc[I[0]])"
   ]
  },
  {
   "cell_type": "code",
   "execution_count": 38,
   "id": "7ade8db7-c6fd-4f29-b57a-605c44aa3c31",
   "metadata": {
    "tags": []
   },
   "outputs": [],
   "source": [
    "index.nprobe = 20"
   ]
  },
  {
   "cell_type": "code",
   "execution_count": 39,
   "id": "c774a0fa-4559-420a-a7cf-6a26aaaf51f1",
   "metadata": {
    "tags": []
   },
   "outputs": [
    {
     "name": "stdout",
     "output_type": "stream",
     "text": [
      "[[  842  7533 11037   895]]\n",
      "842      I want to cancel my policy\n",
      "7533     I want to cancel my policy\n",
      "11037    I want to cancel my policy\n",
      "895      I want to cancel my policy\n",
      "Name: messageList.body, dtype: object\n",
      "CPU times: user 32.3 ms, sys: 6.61 ms, total: 39 ms\n",
      "Wall time: 37.6 ms\n"
     ]
    }
   ],
   "source": [
    "%%time\n",
    "k = 4\n",
    "xq = embedder.encode([\"I want to cancel my policy\"], normalize_embeddings=True)\n",
    "D, I = index.search(xq, k)  # search\n",
    "print(I)\n",
    "print(df_service_sample_inbound['messageList.body'].iloc[I[0]])"
   ]
  },
  {
   "cell_type": "markdown",
   "id": "cd17d374-875d-47b8-bbee-851ddb2a7552",
   "metadata": {},
   "source": [
    "### IndexFlatL2 + IndexIVFFlat (IVF ) + Product Quantization (PQ)"
   ]
  },
  {
   "cell_type": "code",
   "execution_count": 40,
   "id": "7060e394-c2c8-4dd8-b19a-20f9eb9c1f0a",
   "metadata": {
    "tags": []
   },
   "outputs": [],
   "source": [
    "m = 8  # number of centroid IDs in final compressed vectors\n",
    "bits = 8 # number of bits in each centroid\n",
    "\n",
    "quantizer = faiss.IndexFlatL2(d)  # we keep the same L2 distance flat index\n",
    "index = faiss.IndexIVFPQ(quantizer, d, nlist, m, bits)"
   ]
  },
  {
   "cell_type": "code",
   "execution_count": 41,
   "id": "ea1d41d2-f567-4294-acbb-ff9d4dd5089f",
   "metadata": {
    "tags": []
   },
   "outputs": [
    {
     "data": {
      "text/plain": [
       "False"
      ]
     },
     "execution_count": 41,
     "metadata": {},
     "output_type": "execute_result"
    }
   ],
   "source": [
    "index.is_trained"
   ]
  },
  {
   "cell_type": "code",
   "execution_count": 42,
   "id": "2a5411c1-9988-4b4e-8537-5ee4c60a3e03",
   "metadata": {
    "tags": []
   },
   "outputs": [
    {
     "data": {
      "text/plain": [
       "True"
      ]
     },
     "execution_count": 42,
     "metadata": {},
     "output_type": "execute_result"
    }
   ],
   "source": [
    "index.train(corpus_embeddings.cpu().numpy())\n",
    "index.is_trained"
   ]
  },
  {
   "cell_type": "code",
   "execution_count": 43,
   "id": "54363858-6658-423d-b49d-18c8f24ea1f1",
   "metadata": {
    "tags": []
   },
   "outputs": [
    {
     "data": {
      "text/plain": [
       "137205"
      ]
     },
     "execution_count": 43,
     "metadata": {},
     "output_type": "execute_result"
    }
   ],
   "source": [
    "index.add(corpus_embeddings.cpu().numpy())\n",
    "index.ntotal"
   ]
  },
  {
   "cell_type": "code",
   "execution_count": 44,
   "id": "5f47c5f9-6944-49aa-987a-745aff63b3cf",
   "metadata": {
    "tags": []
   },
   "outputs": [],
   "source": [
    "index.nprobe = 20"
   ]
  },
  {
   "cell_type": "code",
   "execution_count": 45,
   "id": "a7fd189e-86f9-442e-8ad9-7778c3826557",
   "metadata": {
    "tags": []
   },
   "outputs": [
    {
     "name": "stdout",
     "output_type": "stream",
     "text": [
      "[[333 377 895 842]]\n",
      "333    I want to cancel  this policy\n",
      "377    Hi I need to cancel my policy\n",
      "895       I want to cancel my policy\n",
      "842       I want to cancel my policy\n",
      "Name: messageList.body, dtype: object\n",
      "CPU times: user 12.5 ms, sys: 38 µs, total: 12.5 ms\n",
      "Wall time: 10.8 ms\n"
     ]
    }
   ],
   "source": [
    "%%time\n",
    "k = 4\n",
    "xq = embedder.encode([\"I want to cancel my policy\"], normalize_embeddings=True)\n",
    "D, I = index.search(xq, k)  # search\n",
    "print(I)\n",
    "print(df_service_sample_inbound['messageList.body'].iloc[I[0]])"
   ]
  },
  {
   "cell_type": "code",
   "execution_count": 50,
   "id": "7a6218df-2106-4b51-9987-03a28768cd84",
   "metadata": {
    "tags": []
   },
   "outputs": [],
   "source": [
    "# Save index locally https://github.com/facebookresearch/faiss/issues/2078\n",
    "from faiss import write_index, read_index"
   ]
  },
  {
   "cell_type": "code",
   "execution_count": 47,
   "id": "f52e3124-574d-4c35-baa7-b2b545294d07",
   "metadata": {
    "tags": []
   },
   "outputs": [],
   "source": [
    "write_index(index, \"faiss_large.index\")"
   ]
  },
  {
   "cell_type": "code",
   "execution_count": 48,
   "id": "8cf8ec05-72e5-4e15-b6a4-b51fc3ae3619",
   "metadata": {
    "tags": []
   },
   "outputs": [],
   "source": [
    "index_load = read_index(\"faiss_large.index\")"
   ]
  },
  {
   "cell_type": "code",
   "execution_count": 49,
   "id": "5923bd04-5b9a-4d70-90a5-66e8d283e396",
   "metadata": {
    "tags": []
   },
   "outputs": [
    {
     "name": "stdout",
     "output_type": "stream",
     "text": [
      "[[333 377 895 842]]\n",
      "333    I want to cancel  this policy\n",
      "377    Hi I need to cancel my policy\n",
      "895       I want to cancel my policy\n",
      "842       I want to cancel my policy\n",
      "Name: messageList.body, dtype: object\n",
      "CPU times: user 12.7 ms, sys: 77 µs, total: 12.8 ms\n",
      "Wall time: 11 ms\n"
     ]
    }
   ],
   "source": [
    "%%time\n",
    "k = 4\n",
    "xq = embedder.encode([\"I want to cancel my policy\"], normalize_embeddings=True)\n",
    "D, I = index_load.search(xq, k)  # search\n",
    "print(I)\n",
    "print(df_service_sample_inbound['messageList.body'].iloc[I[0]])"
   ]
  },
  {
   "cell_type": "code",
   "execution_count": null,
   "id": "e39951cf-c071-430c-9d6d-3f2c9263c82c",
   "metadata": {},
   "outputs": [],
   "source": []
  }
 ],
 "metadata": {
  "kernelspec": {
   "display_name": "Cortex-Python3.10",
   "language": "python",
   "name": "cortex-python3.10"
  },
  "language_info": {
   "codemirror_mode": {
    "name": "ipython",
    "version": 3
   },
   "file_extension": ".py",
   "mimetype": "text/x-python",
   "name": "python",
   "nbconvert_exporter": "python",
   "pygments_lexer": "ipython3",
   "version": "3.10.11"
  }
 },
 "nbformat": 4,
 "nbformat_minor": 5
}
